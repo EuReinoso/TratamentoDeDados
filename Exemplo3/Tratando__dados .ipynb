{
  "nbformat": 4,
  "nbformat_minor": 0,
  "metadata": {
    "colab": {
      "name": "Tratando_ dados.ipynb",
      "provenance": []
    },
    "kernelspec": {
      "name": "python3",
      "display_name": "Python 3"
    },
    "language_info": {
      "name": "python"
    }
  },
  "cells": [
    {
      "cell_type": "code",
      "metadata": {
        "id": "bdhxsVShmAmX"
      },
      "source": [
        "#importando bibliotecas\n",
        "import pandas as pd\n",
        "import matplotlib.pyplot as plt\n",
        "import statistics as sts"
      ],
      "execution_count": 88,
      "outputs": []
    },
    {
      "cell_type": "code",
      "metadata": {
        "colab": {
          "base_uri": "https://localhost:8080/",
          "height": 419
        },
        "id": "EIsP6R1SmiHP",
        "outputId": "d55c30f0-3774-4e8b-9adb-fc0d5744c20f"
      },
      "source": [
        "#lendo arquivo cvs\n",
        "dataset = pd.read_csv('dados.csv', sep= ';')\n",
        "dataset"
      ],
      "execution_count": 89,
      "outputs": [
        {
          "output_type": "execute_result",
          "data": {
            "text/html": [
              "<div>\n",
              "<style scoped>\n",
              "    .dataframe tbody tr th:only-of-type {\n",
              "        vertical-align: middle;\n",
              "    }\n",
              "\n",
              "    .dataframe tbody tr th {\n",
              "        vertical-align: top;\n",
              "    }\n",
              "\n",
              "    .dataframe thead th {\n",
              "        text-align: right;\n",
              "    }\n",
              "</style>\n",
              "<table border=\"1\" class=\"dataframe\">\n",
              "  <thead>\n",
              "    <tr style=\"text-align: right;\">\n",
              "      <th></th>\n",
              "      <th>CODIGO</th>\n",
              "      <th>MUNICIPIO</th>\n",
              "      <th>PIB</th>\n",
              "      <th>VALOREMPENHO</th>\n",
              "    </tr>\n",
              "  </thead>\n",
              "  <tbody>\n",
              "    <tr>\n",
              "      <th>0</th>\n",
              "      <td>106</td>\n",
              "      <td>SANTANA DO LIVRAMENTO</td>\n",
              "      <td>12240.76</td>\n",
              "      <td>1088666.10</td>\n",
              "    </tr>\n",
              "    <tr>\n",
              "      <th>1</th>\n",
              "      <td>113</td>\n",
              "      <td>SANTO ANGELO</td>\n",
              "      <td>16575.82</td>\n",
              "      <td>800669.92</td>\n",
              "    </tr>\n",
              "    <tr>\n",
              "      <th>2</th>\n",
              "      <td>118</td>\n",
              "      <td>SAO FRANCISCO DE ASSIS</td>\n",
              "      <td>12037.61</td>\n",
              "      <td>466122.80</td>\n",
              "    </tr>\n",
              "    <tr>\n",
              "      <th>3</th>\n",
              "      <td>13</td>\n",
              "      <td>CACAPAVA DO SUL</td>\n",
              "      <td>13674.54</td>\n",
              "      <td>485535.86</td>\n",
              "    </tr>\n",
              "    <tr>\n",
              "      <th>4</th>\n",
              "      <td>120</td>\n",
              "      <td>SAO GABRIEL</td>\n",
              "      <td>19912.38</td>\n",
              "      <td>533719.86</td>\n",
              "    </tr>\n",
              "    <tr>\n",
              "      <th>...</th>\n",
              "      <td>...</td>\n",
              "      <td>...</td>\n",
              "      <td>...</td>\n",
              "      <td>...</td>\n",
              "    </tr>\n",
              "    <tr>\n",
              "      <th>182</th>\n",
              "      <td>372</td>\n",
              "      <td>SANTA VITORIA DO PALMAR</td>\n",
              "      <td>27170.89</td>\n",
              "      <td>760.00</td>\n",
              "    </tr>\n",
              "    <tr>\n",
              "      <th>183</th>\n",
              "      <td>107</td>\n",
              "      <td>SANTA BARBARA DO SUL</td>\n",
              "      <td>29654.02</td>\n",
              "      <td>365.00</td>\n",
              "    </tr>\n",
              "    <tr>\n",
              "      <th>184</th>\n",
              "      <td>54</td>\n",
              "      <td>GETULIO VARGAS</td>\n",
              "      <td>16876.33</td>\n",
              "      <td>233.01</td>\n",
              "    </tr>\n",
              "    <tr>\n",
              "      <th>185</th>\n",
              "      <td>382</td>\n",
              "      <td>NOVA SANTA RITA</td>\n",
              "      <td>25938.38</td>\n",
              "      <td>310.58</td>\n",
              "    </tr>\n",
              "    <tr>\n",
              "      <th>186</th>\n",
              "      <td>60</td>\n",
              "      <td>GUARANI DAS MISSOES</td>\n",
              "      <td>24363.31</td>\n",
              "      <td>172.13</td>\n",
              "    </tr>\n",
              "  </tbody>\n",
              "</table>\n",
              "<p>187 rows × 4 columns</p>\n",
              "</div>"
            ],
            "text/plain": [
              "     CODIGO                MUNICIPIO       PIB  VALOREMPENHO\n",
              "0       106    SANTANA DO LIVRAMENTO  12240.76    1088666.10\n",
              "1       113             SANTO ANGELO  16575.82     800669.92\n",
              "2       118   SAO FRANCISCO DE ASSIS  12037.61     466122.80\n",
              "3        13          CACAPAVA DO SUL  13674.54     485535.86\n",
              "4       120              SAO GABRIEL  19912.38     533719.86\n",
              "..      ...                      ...       ...           ...\n",
              "182     372  SANTA VITORIA DO PALMAR  27170.89        760.00\n",
              "183     107     SANTA BARBARA DO SUL  29654.02        365.00\n",
              "184      54           GETULIO VARGAS  16876.33        233.01\n",
              "185     382          NOVA SANTA RITA  25938.38        310.58\n",
              "186      60      GUARANI DAS MISSOES  24363.31        172.13\n",
              "\n",
              "[187 rows x 4 columns]"
            ]
          },
          "metadata": {
            "tags": []
          },
          "execution_count": 89
        }
      ]
    },
    {
      "cell_type": "markdown",
      "metadata": {
        "id": "g34bNIfQnE4L"
      },
      "source": [
        "Análise Exploratória"
      ]
    },
    {
      "cell_type": "code",
      "metadata": {
        "colab": {
          "base_uri": "https://localhost:8080/",
          "height": 669
        },
        "id": "jkSLhgz5m9qQ",
        "outputId": "f381d2d5-20c5-4efc-e7fc-3607892f9eb3"
      },
      "source": [
        "#Verificando se há erros nos dados categóricos:\n",
        "\n",
        "#MUNICIPIO\n",
        "#Verificando se há valores duplicados\n",
        "#Há municipios duplicados, necessária correção e substituir os valores pela mediana\n",
        "\n",
        "repetidos = dataset.duplicated(['MUNICIPIO'], keep = False)\n",
        "dataset[repetidos]"
      ],
      "execution_count": 90,
      "outputs": [
        {
          "output_type": "execute_result",
          "data": {
            "text/html": [
              "<div>\n",
              "<style scoped>\n",
              "    .dataframe tbody tr th:only-of-type {\n",
              "        vertical-align: middle;\n",
              "    }\n",
              "\n",
              "    .dataframe tbody tr th {\n",
              "        vertical-align: top;\n",
              "    }\n",
              "\n",
              "    .dataframe thead th {\n",
              "        text-align: right;\n",
              "    }\n",
              "</style>\n",
              "<table border=\"1\" class=\"dataframe\">\n",
              "  <thead>\n",
              "    <tr style=\"text-align: right;\">\n",
              "      <th></th>\n",
              "      <th>CODIGO</th>\n",
              "      <th>MUNICIPIO</th>\n",
              "      <th>PIB</th>\n",
              "      <th>VALOREMPENHO</th>\n",
              "    </tr>\n",
              "  </thead>\n",
              "  <tbody>\n",
              "    <tr>\n",
              "      <th>18</th>\n",
              "      <td>259</td>\n",
              "      <td>CERRO BRANCO</td>\n",
              "      <td>11961.10</td>\n",
              "      <td>208240.50</td>\n",
              "    </tr>\n",
              "    <tr>\n",
              "      <th>19</th>\n",
              "      <td>259</td>\n",
              "      <td>MONTE ALEGRE DOS CAMPOS</td>\n",
              "      <td>11961.10</td>\n",
              "      <td>208240.50</td>\n",
              "    </tr>\n",
              "    <tr>\n",
              "      <th>21</th>\n",
              "      <td>259</td>\n",
              "      <td>CERRO BRANCO</td>\n",
              "      <td>12467.25</td>\n",
              "      <td>208240.50</td>\n",
              "    </tr>\n",
              "    <tr>\n",
              "      <th>22</th>\n",
              "      <td>259</td>\n",
              "      <td>MONTE ALEGRE DOS CAMPOS</td>\n",
              "      <td>12467.25</td>\n",
              "      <td>208240.50</td>\n",
              "    </tr>\n",
              "    <tr>\n",
              "      <th>41</th>\n",
              "      <td>141</td>\n",
              "      <td>DOUTOR MAURICIO CARDOSO</td>\n",
              "      <td>13628.17</td>\n",
              "      <td>147767.38</td>\n",
              "    </tr>\n",
              "    <tr>\n",
              "      <th>42</th>\n",
              "      <td>141</td>\n",
              "      <td>TAQUARA</td>\n",
              "      <td>13628.17</td>\n",
              "      <td>147767.38</td>\n",
              "    </tr>\n",
              "    <tr>\n",
              "      <th>57</th>\n",
              "      <td>141</td>\n",
              "      <td>DOUTOR MAURICIO CARDOSO</td>\n",
              "      <td>18628.78</td>\n",
              "      <td>147767.38</td>\n",
              "    </tr>\n",
              "    <tr>\n",
              "      <th>58</th>\n",
              "      <td>141</td>\n",
              "      <td>TAQUARA</td>\n",
              "      <td>18628.78</td>\n",
              "      <td>147767.38</td>\n",
              "    </tr>\n",
              "    <tr>\n",
              "      <th>82</th>\n",
              "      <td>378</td>\n",
              "      <td>MULITERNO</td>\n",
              "      <td>16581.60</td>\n",
              "      <td>97594.98</td>\n",
              "    </tr>\n",
              "    <tr>\n",
              "      <th>83</th>\n",
              "      <td>378</td>\n",
              "      <td>SANTO ANTONIO DAS MISSOES</td>\n",
              "      <td>16581.60</td>\n",
              "      <td>97594.98</td>\n",
              "    </tr>\n",
              "    <tr>\n",
              "      <th>94</th>\n",
              "      <td>378</td>\n",
              "      <td>MULITERNO</td>\n",
              "      <td>19914.82</td>\n",
              "      <td>97594.98</td>\n",
              "    </tr>\n",
              "    <tr>\n",
              "      <th>95</th>\n",
              "      <td>378</td>\n",
              "      <td>SANTO ANTONIO DAS MISSOES</td>\n",
              "      <td>19914.82</td>\n",
              "      <td>97594.98</td>\n",
              "    </tr>\n",
              "    <tr>\n",
              "      <th>125</th>\n",
              "      <td>380</td>\n",
              "      <td>NOVA BOA VISTA</td>\n",
              "      <td>18676.57</td>\n",
              "      <td>58868.19</td>\n",
              "    </tr>\n",
              "    <tr>\n",
              "      <th>126</th>\n",
              "      <td>380</td>\n",
              "      <td>SANTO ANTONIO DO PLANALTO</td>\n",
              "      <td>18676.57</td>\n",
              "      <td>58868.19</td>\n",
              "    </tr>\n",
              "    <tr>\n",
              "      <th>141</th>\n",
              "      <td>380</td>\n",
              "      <td>NOVA BOA VISTA</td>\n",
              "      <td>24509.74</td>\n",
              "      <td>58868.19</td>\n",
              "    </tr>\n",
              "    <tr>\n",
              "      <th>142</th>\n",
              "      <td>380</td>\n",
              "      <td>SANTO ANTONIO DO PLANALTO</td>\n",
              "      <td>24509.74</td>\n",
              "      <td>58868.19</td>\n",
              "    </tr>\n",
              "    <tr>\n",
              "      <th>179</th>\n",
              "      <td>372</td>\n",
              "      <td>MATO LEITAO</td>\n",
              "      <td>17213.98</td>\n",
              "      <td>760.00</td>\n",
              "    </tr>\n",
              "    <tr>\n",
              "      <th>180</th>\n",
              "      <td>372</td>\n",
              "      <td>SANTA VITORIA DO PALMAR</td>\n",
              "      <td>17213.98</td>\n",
              "      <td>760.00</td>\n",
              "    </tr>\n",
              "    <tr>\n",
              "      <th>181</th>\n",
              "      <td>372</td>\n",
              "      <td>MATO LEITAO</td>\n",
              "      <td>27170.89</td>\n",
              "      <td>760.00</td>\n",
              "    </tr>\n",
              "    <tr>\n",
              "      <th>182</th>\n",
              "      <td>372</td>\n",
              "      <td>SANTA VITORIA DO PALMAR</td>\n",
              "      <td>27170.89</td>\n",
              "      <td>760.00</td>\n",
              "    </tr>\n",
              "  </tbody>\n",
              "</table>\n",
              "</div>"
            ],
            "text/plain": [
              "     CODIGO                  MUNICIPIO       PIB  VALOREMPENHO\n",
              "18      259               CERRO BRANCO  11961.10     208240.50\n",
              "19      259    MONTE ALEGRE DOS CAMPOS  11961.10     208240.50\n",
              "21      259               CERRO BRANCO  12467.25     208240.50\n",
              "22      259    MONTE ALEGRE DOS CAMPOS  12467.25     208240.50\n",
              "41      141    DOUTOR MAURICIO CARDOSO  13628.17     147767.38\n",
              "42      141                    TAQUARA  13628.17     147767.38\n",
              "57      141    DOUTOR MAURICIO CARDOSO  18628.78     147767.38\n",
              "58      141                    TAQUARA  18628.78     147767.38\n",
              "82      378                  MULITERNO  16581.60      97594.98\n",
              "83      378  SANTO ANTONIO DAS MISSOES  16581.60      97594.98\n",
              "94      378                  MULITERNO  19914.82      97594.98\n",
              "95      378  SANTO ANTONIO DAS MISSOES  19914.82      97594.98\n",
              "125     380             NOVA BOA VISTA  18676.57      58868.19\n",
              "126     380  SANTO ANTONIO DO PLANALTO  18676.57      58868.19\n",
              "141     380             NOVA BOA VISTA  24509.74      58868.19\n",
              "142     380  SANTO ANTONIO DO PLANALTO  24509.74      58868.19\n",
              "179     372                MATO LEITAO  17213.98        760.00\n",
              "180     372    SANTA VITORIA DO PALMAR  17213.98        760.00\n",
              "181     372                MATO LEITAO  27170.89        760.00\n",
              "182     372    SANTA VITORIA DO PALMAR  27170.89        760.00"
            ]
          },
          "metadata": {
            "tags": []
          },
          "execution_count": 90
        }
      ]
    },
    {
      "cell_type": "code",
      "metadata": {
        "colab": {
          "base_uri": "https://localhost:8080/"
        },
        "id": "vjywJj-I6ZnZ",
        "outputId": "569180bd-0270-444d-f6a2-42e3224f4bc7"
      },
      "source": [
        "dataset[repetidos].groupby(['MUNICIPIO']).size()"
      ],
      "execution_count": 91,
      "outputs": [
        {
          "output_type": "execute_result",
          "data": {
            "text/plain": [
              "MUNICIPIO\n",
              "CERRO BRANCO                 2\n",
              "DOUTOR MAURICIO CARDOSO      2\n",
              "MATO LEITAO                  2\n",
              "MONTE ALEGRE DOS CAMPOS      2\n",
              "MULITERNO                    2\n",
              "NOVA BOA VISTA               2\n",
              "SANTA VITORIA DO PALMAR      2\n",
              "SANTO ANTONIO DAS MISSOES    2\n",
              "SANTO ANTONIO DO PLANALTO    2\n",
              "TAQUARA                      2\n",
              "dtype: int64"
            ]
          },
          "metadata": {
            "tags": []
          },
          "execution_count": 91
        }
      ]
    },
    {
      "cell_type": "code",
      "metadata": {
        "colab": {
          "base_uri": "https://localhost:8080/",
          "height": 669
        },
        "id": "aAPwrLWQo8VE",
        "outputId": "11eea13b-8f9b-4a52-9522-5e94934b10ff"
      },
      "source": [
        "#verificando códigos repetidos\n",
        "#Códigos repetidos necessária correção\n",
        "repetidos = dataset.duplicated(['CODIGO'],keep= False)\n",
        "dataset[repetidos]"
      ],
      "execution_count": 92,
      "outputs": [
        {
          "output_type": "execute_result",
          "data": {
            "text/html": [
              "<div>\n",
              "<style scoped>\n",
              "    .dataframe tbody tr th:only-of-type {\n",
              "        vertical-align: middle;\n",
              "    }\n",
              "\n",
              "    .dataframe tbody tr th {\n",
              "        vertical-align: top;\n",
              "    }\n",
              "\n",
              "    .dataframe thead th {\n",
              "        text-align: right;\n",
              "    }\n",
              "</style>\n",
              "<table border=\"1\" class=\"dataframe\">\n",
              "  <thead>\n",
              "    <tr style=\"text-align: right;\">\n",
              "      <th></th>\n",
              "      <th>CODIGO</th>\n",
              "      <th>MUNICIPIO</th>\n",
              "      <th>PIB</th>\n",
              "      <th>VALOREMPENHO</th>\n",
              "    </tr>\n",
              "  </thead>\n",
              "  <tbody>\n",
              "    <tr>\n",
              "      <th>18</th>\n",
              "      <td>259</td>\n",
              "      <td>CERRO BRANCO</td>\n",
              "      <td>11961.10</td>\n",
              "      <td>208240.50</td>\n",
              "    </tr>\n",
              "    <tr>\n",
              "      <th>19</th>\n",
              "      <td>259</td>\n",
              "      <td>MONTE ALEGRE DOS CAMPOS</td>\n",
              "      <td>11961.10</td>\n",
              "      <td>208240.50</td>\n",
              "    </tr>\n",
              "    <tr>\n",
              "      <th>21</th>\n",
              "      <td>259</td>\n",
              "      <td>CERRO BRANCO</td>\n",
              "      <td>12467.25</td>\n",
              "      <td>208240.50</td>\n",
              "    </tr>\n",
              "    <tr>\n",
              "      <th>22</th>\n",
              "      <td>259</td>\n",
              "      <td>MONTE ALEGRE DOS CAMPOS</td>\n",
              "      <td>12467.25</td>\n",
              "      <td>208240.50</td>\n",
              "    </tr>\n",
              "    <tr>\n",
              "      <th>41</th>\n",
              "      <td>141</td>\n",
              "      <td>DOUTOR MAURICIO CARDOSO</td>\n",
              "      <td>13628.17</td>\n",
              "      <td>147767.38</td>\n",
              "    </tr>\n",
              "    <tr>\n",
              "      <th>42</th>\n",
              "      <td>141</td>\n",
              "      <td>TAQUARA</td>\n",
              "      <td>13628.17</td>\n",
              "      <td>147767.38</td>\n",
              "    </tr>\n",
              "    <tr>\n",
              "      <th>57</th>\n",
              "      <td>141</td>\n",
              "      <td>DOUTOR MAURICIO CARDOSO</td>\n",
              "      <td>18628.78</td>\n",
              "      <td>147767.38</td>\n",
              "    </tr>\n",
              "    <tr>\n",
              "      <th>58</th>\n",
              "      <td>141</td>\n",
              "      <td>TAQUARA</td>\n",
              "      <td>18628.78</td>\n",
              "      <td>147767.38</td>\n",
              "    </tr>\n",
              "    <tr>\n",
              "      <th>82</th>\n",
              "      <td>378</td>\n",
              "      <td>MULITERNO</td>\n",
              "      <td>16581.60</td>\n",
              "      <td>97594.98</td>\n",
              "    </tr>\n",
              "    <tr>\n",
              "      <th>83</th>\n",
              "      <td>378</td>\n",
              "      <td>SANTO ANTONIO DAS MISSOES</td>\n",
              "      <td>16581.60</td>\n",
              "      <td>97594.98</td>\n",
              "    </tr>\n",
              "    <tr>\n",
              "      <th>94</th>\n",
              "      <td>378</td>\n",
              "      <td>MULITERNO</td>\n",
              "      <td>19914.82</td>\n",
              "      <td>97594.98</td>\n",
              "    </tr>\n",
              "    <tr>\n",
              "      <th>95</th>\n",
              "      <td>378</td>\n",
              "      <td>SANTO ANTONIO DAS MISSOES</td>\n",
              "      <td>19914.82</td>\n",
              "      <td>97594.98</td>\n",
              "    </tr>\n",
              "    <tr>\n",
              "      <th>125</th>\n",
              "      <td>380</td>\n",
              "      <td>NOVA BOA VISTA</td>\n",
              "      <td>18676.57</td>\n",
              "      <td>58868.19</td>\n",
              "    </tr>\n",
              "    <tr>\n",
              "      <th>126</th>\n",
              "      <td>380</td>\n",
              "      <td>SANTO ANTONIO DO PLANALTO</td>\n",
              "      <td>18676.57</td>\n",
              "      <td>58868.19</td>\n",
              "    </tr>\n",
              "    <tr>\n",
              "      <th>141</th>\n",
              "      <td>380</td>\n",
              "      <td>NOVA BOA VISTA</td>\n",
              "      <td>24509.74</td>\n",
              "      <td>58868.19</td>\n",
              "    </tr>\n",
              "    <tr>\n",
              "      <th>142</th>\n",
              "      <td>380</td>\n",
              "      <td>SANTO ANTONIO DO PLANALTO</td>\n",
              "      <td>24509.74</td>\n",
              "      <td>58868.19</td>\n",
              "    </tr>\n",
              "    <tr>\n",
              "      <th>179</th>\n",
              "      <td>372</td>\n",
              "      <td>MATO LEITAO</td>\n",
              "      <td>17213.98</td>\n",
              "      <td>760.00</td>\n",
              "    </tr>\n",
              "    <tr>\n",
              "      <th>180</th>\n",
              "      <td>372</td>\n",
              "      <td>SANTA VITORIA DO PALMAR</td>\n",
              "      <td>17213.98</td>\n",
              "      <td>760.00</td>\n",
              "    </tr>\n",
              "    <tr>\n",
              "      <th>181</th>\n",
              "      <td>372</td>\n",
              "      <td>MATO LEITAO</td>\n",
              "      <td>27170.89</td>\n",
              "      <td>760.00</td>\n",
              "    </tr>\n",
              "    <tr>\n",
              "      <th>182</th>\n",
              "      <td>372</td>\n",
              "      <td>SANTA VITORIA DO PALMAR</td>\n",
              "      <td>27170.89</td>\n",
              "      <td>760.00</td>\n",
              "    </tr>\n",
              "  </tbody>\n",
              "</table>\n",
              "</div>"
            ],
            "text/plain": [
              "     CODIGO                  MUNICIPIO       PIB  VALOREMPENHO\n",
              "18      259               CERRO BRANCO  11961.10     208240.50\n",
              "19      259    MONTE ALEGRE DOS CAMPOS  11961.10     208240.50\n",
              "21      259               CERRO BRANCO  12467.25     208240.50\n",
              "22      259    MONTE ALEGRE DOS CAMPOS  12467.25     208240.50\n",
              "41      141    DOUTOR MAURICIO CARDOSO  13628.17     147767.38\n",
              "42      141                    TAQUARA  13628.17     147767.38\n",
              "57      141    DOUTOR MAURICIO CARDOSO  18628.78     147767.38\n",
              "58      141                    TAQUARA  18628.78     147767.38\n",
              "82      378                  MULITERNO  16581.60      97594.98\n",
              "83      378  SANTO ANTONIO DAS MISSOES  16581.60      97594.98\n",
              "94      378                  MULITERNO  19914.82      97594.98\n",
              "95      378  SANTO ANTONIO DAS MISSOES  19914.82      97594.98\n",
              "125     380             NOVA BOA VISTA  18676.57      58868.19\n",
              "126     380  SANTO ANTONIO DO PLANALTO  18676.57      58868.19\n",
              "141     380             NOVA BOA VISTA  24509.74      58868.19\n",
              "142     380  SANTO ANTONIO DO PLANALTO  24509.74      58868.19\n",
              "179     372                MATO LEITAO  17213.98        760.00\n",
              "180     372    SANTA VITORIA DO PALMAR  17213.98        760.00\n",
              "181     372                MATO LEITAO  27170.89        760.00\n",
              "182     372    SANTA VITORIA DO PALMAR  27170.89        760.00"
            ]
          },
          "metadata": {
            "tags": []
          },
          "execution_count": 92
        }
      ]
    },
    {
      "cell_type": "code",
      "metadata": {
        "colab": {
          "base_uri": "https://localhost:8080/"
        },
        "id": "NTIpbK8R61QK",
        "outputId": "dd7cf7c6-a138-4076-8690-3869ca44ad43"
      },
      "source": [
        "dataset[repetidos].groupby(['CODIGO']).size()"
      ],
      "execution_count": 93,
      "outputs": [
        {
          "output_type": "execute_result",
          "data": {
            "text/plain": [
              "CODIGO\n",
              "141    4\n",
              "259    4\n",
              "372    4\n",
              "378    4\n",
              "380    4\n",
              "dtype: int64"
            ]
          },
          "metadata": {
            "tags": []
          },
          "execution_count": 93
        }
      ]
    },
    {
      "cell_type": "code",
      "metadata": {
        "colab": {
          "base_uri": "https://localhost:8080/"
        },
        "id": "bd2WV4u7upoR",
        "outputId": "7e25765e-a7ee-470d-ccac-6dc754f24a72"
      },
      "source": [
        "#PIB\n",
        "#Necessária substituição de outliers pela mediana\n",
        "dataset['PIB'].describe()"
      ],
      "execution_count": 94,
      "outputs": [
        {
          "output_type": "execute_result",
          "data": {
            "text/plain": [
              "count       187.000000\n",
              "mean      19808.741337\n",
              "std       16984.223244\n",
              "min        8236.630000\n",
              "25%       13621.455000\n",
              "50%       17206.190000\n",
              "75%       21429.165000\n",
              "max      223848.220000\n",
              "Name: PIB, dtype: float64"
            ]
          },
          "metadata": {
            "tags": []
          },
          "execution_count": 94
        }
      ]
    },
    {
      "cell_type": "code",
      "metadata": {
        "colab": {
          "base_uri": "https://localhost:8080/",
          "height": 401
        },
        "id": "qbBIzkUEu4fz",
        "outputId": "1cef3782-0577-489f-f98e-72364f890711"
      },
      "source": [
        "#analise gráfica de PIB\n",
        "plt.boxplot(dataset['PIB'], vert= False, patch_artist= True)"
      ],
      "execution_count": 95,
      "outputs": [
        {
          "output_type": "execute_result",
          "data": {
            "text/plain": [
              "{'boxes': [<matplotlib.patches.PathPatch at 0x7f11f5062c50>],\n",
              " 'caps': [<matplotlib.lines.Line2D at 0x7f11f4ff51d0>,\n",
              "  <matplotlib.lines.Line2D at 0x7f11f4ff5710>],\n",
              " 'fliers': [<matplotlib.lines.Line2D at 0x7f11f4ffe210>],\n",
              " 'means': [],\n",
              " 'medians': [<matplotlib.lines.Line2D at 0x7f11f4ff5c50>],\n",
              " 'whiskers': [<matplotlib.lines.Line2D at 0x7f11f506e710>,\n",
              "  <matplotlib.lines.Line2D at 0x7f11f506ec50>]}"
            ]
          },
          "metadata": {
            "tags": []
          },
          "execution_count": 95
        },
        {
          "output_type": "display_data",
          "data": {
            "image/png": "[encoded data removed]",
            "text/plain": [
              "<Figure size 432x288 with 1 Axes>"
            ]
          },
          "metadata": {
            "tags": [],
            "needs_background": "light"
          }
        }
      ]
    },
    {
      "cell_type": "code",
      "metadata": {
        "colab": {
          "base_uri": "https://localhost:8080/",
          "height": 350
        },
        "id": "rge-FA89wF1o",
        "outputId": "421f58a9-d428-40e0-bfb5-cb40df13c88d"
      },
      "source": [
        "plt.hist(dataset['PIB'])"
      ],
      "execution_count": 96,
      "outputs": [
        {
          "output_type": "execute_result",
          "data": {
            "text/plain": [
              "(array([177.,   7.,   2.,   0.,   0.,   0.,   0.,   0.,   0.,   1.]),\n",
              " array([  8236.63 ,  29797.789,  51358.948,  72920.107,  94481.266,\n",
              "        116042.425, 137603.584, 159164.743, 180725.902, 202287.061,\n",
              "        223848.22 ]),\n",
              " <a list of 10 Patch objects>)"
            ]
          },
          "metadata": {
            "tags": []
          },
          "execution_count": 96
        },
        {
          "output_type": "display_data",
          "data": {
            "image/png": "[encoded data removed]",
            "text/plain": [
              "<Figure size 432x288 with 1 Axes>"
            ]
          },
          "metadata": {
            "tags": [],
            "needs_background": "light"
          }
        }
      ]
    },
    {
      "cell_type": "code",
      "metadata": {
        "colab": {
          "base_uri": "https://localhost:8080/"
        },
        "id": "-aeGwTrzwd1w",
        "outputId": "4f111330-bc97-47ff-c181-994dce1dfbd1"
      },
      "source": [
        "#VALOREMPENHO\n",
        "dataset['VALOREMPENHO'].describe()"
      ],
      "execution_count": 97,
      "outputs": [
        {
          "output_type": "execute_result",
          "data": {
            "text/plain": [
              "count    1.870000e+02\n",
              "mean     1.299844e+05\n",
              "std      1.615491e+05\n",
              "min      1.721300e+02\n",
              "25%      5.251718e+04\n",
              "50%      8.422816e+04\n",
              "75%      1.538961e+05\n",
              "max      1.442760e+06\n",
              "Name: VALOREMPENHO, dtype: float64"
            ]
          },
          "metadata": {
            "tags": []
          },
          "execution_count": 97
        }
      ]
    },
    {
      "cell_type": "code",
      "metadata": {
        "colab": {
          "base_uri": "https://localhost:8080/",
          "height": 414
        },
        "id": "PcwQ4JUFwrYm",
        "outputId": "63a8be56-cff9-4eeb-e8f9-dc62f4ba56a0"
      },
      "source": [
        "#analise com boxplot\n",
        "#necessária substituição de outliers pela mediana\n",
        "plt.boxplot(dataset['VALOREMPENHO'], vert = False, patch_artist= True)"
      ],
      "execution_count": 98,
      "outputs": [
        {
          "output_type": "execute_result",
          "data": {
            "text/plain": [
              "{'boxes': [<matplotlib.patches.PathPatch at 0x7f11f4f5c2d0>],\n",
              " 'caps': [<matplotlib.lines.Line2D at 0x7f11f4f64850>,\n",
              "  <matplotlib.lines.Line2D at 0x7f11f4f64d90>],\n",
              " 'fliers': [<matplotlib.lines.Line2D at 0x7f11f4f6a890>],\n",
              " 'means': [],\n",
              " 'medians': [<matplotlib.lines.Line2D at 0x7f11f4f6a310>],\n",
              " 'whiskers': [<matplotlib.lines.Line2D at 0x7f11f4f5cdd0>,\n",
              "  <matplotlib.lines.Line2D at 0x7f11f4f64310>]}"
            ]
          },
          "metadata": {
            "tags": []
          },
          "execution_count": 98
        },
        {
          "output_type": "display_data",
          "data": {
            "image/png": "[encoded data removed]",
            "text/plain": [
              "<Figure size 432x288 with 1 Axes>"
            ]
          },
          "metadata": {
            "tags": [],
            "needs_background": "light"
          }
        }
      ]
    },
    {
      "cell_type": "code",
      "metadata": {
        "colab": {
          "base_uri": "https://localhost:8080/"
        },
        "id": "9cKeoLE1xK1H",
        "outputId": "5e6dfacf-e18c-4033-9e91-1c8c7a555a57"
      },
      "source": [
        "#Verificando valores NaN\n",
        "#não há\n",
        "dataset.isnull().sum()"
      ],
      "execution_count": 99,
      "outputs": [
        {
          "output_type": "execute_result",
          "data": {
            "text/plain": [
              "CODIGO          0\n",
              "MUNICIPIO       0\n",
              "PIB             0\n",
              "VALOREMPENHO    0\n",
              "dtype: int64"
            ]
          },
          "metadata": {
            "tags": []
          },
          "execution_count": 99
        }
      ]
    },
    {
      "cell_type": "markdown",
      "metadata": {
        "id": "yux4TnD07Ke5"
      },
      "source": [
        "FAZENDO CORREÇÕES\n"
      ]
    },
    {
      "cell_type": "code",
      "metadata": {
        "colab": {
          "base_uri": "https://localhost:8080/",
          "height": 49
        },
        "id": "dbfNrqu57OPB",
        "outputId": "1867dbd6-481c-4e09-8f96-6356af4a41c8"
      },
      "source": [
        "#Eliminando valores com códigos repetidos\n",
        "dataset.drop_duplicates(subset='CODIGO', keep= 'first', inplace= True)\n",
        "\n",
        "#verificando se ainda tem valores repetidos\n",
        "dataset[dataset.duplicated(['CODIGO'], keep = False)]"
      ],
      "execution_count": 100,
      "outputs": [
        {
          "output_type": "execute_result",
          "data": {
            "text/html": [
              "<div>\n",
              "<style scoped>\n",
              "    .dataframe tbody tr th:only-of-type {\n",
              "        vertical-align: middle;\n",
              "    }\n",
              "\n",
              "    .dataframe tbody tr th {\n",
              "        vertical-align: top;\n",
              "    }\n",
              "\n",
              "    .dataframe thead th {\n",
              "        text-align: right;\n",
              "    }\n",
              "</style>\n",
              "<table border=\"1\" class=\"dataframe\">\n",
              "  <thead>\n",
              "    <tr style=\"text-align: right;\">\n",
              "      <th></th>\n",
              "      <th>CODIGO</th>\n",
              "      <th>MUNICIPIO</th>\n",
              "      <th>PIB</th>\n",
              "      <th>VALOREMPENHO</th>\n",
              "    </tr>\n",
              "  </thead>\n",
              "  <tbody>\n",
              "  </tbody>\n",
              "</table>\n",
              "</div>"
            ],
            "text/plain": [
              "Empty DataFrame\n",
              "Columns: [CODIGO, MUNICIPIO, PIB, VALOREMPENHO]\n",
              "Index: []"
            ]
          },
          "metadata": {
            "tags": []
          },
          "execution_count": 100
        }
      ]
    },
    {
      "cell_type": "code",
      "metadata": {
        "colab": {
          "base_uri": "https://localhost:8080/",
          "height": 49
        },
        "id": "bWclsQyH8-42",
        "outputId": "609980ff-858f-4c70-bce6-5333f0f6457a"
      },
      "source": [
        "#verificando se ainda há municipios repetidos\n",
        "dataset[dataset.duplicated([\"MUNICIPIO\"], keep= False)]"
      ],
      "execution_count": 101,
      "outputs": [
        {
          "output_type": "execute_result",
          "data": {
            "text/html": [
              "<div>\n",
              "<style scoped>\n",
              "    .dataframe tbody tr th:only-of-type {\n",
              "        vertical-align: middle;\n",
              "    }\n",
              "\n",
              "    .dataframe tbody tr th {\n",
              "        vertical-align: top;\n",
              "    }\n",
              "\n",
              "    .dataframe thead th {\n",
              "        text-align: right;\n",
              "    }\n",
              "</style>\n",
              "<table border=\"1\" class=\"dataframe\">\n",
              "  <thead>\n",
              "    <tr style=\"text-align: right;\">\n",
              "      <th></th>\n",
              "      <th>CODIGO</th>\n",
              "      <th>MUNICIPIO</th>\n",
              "      <th>PIB</th>\n",
              "      <th>VALOREMPENHO</th>\n",
              "    </tr>\n",
              "  </thead>\n",
              "  <tbody>\n",
              "  </tbody>\n",
              "</table>\n",
              "</div>"
            ],
            "text/plain": [
              "Empty DataFrame\n",
              "Columns: [CODIGO, MUNICIPIO, PIB, VALOREMPENHO]\n",
              "Index: []"
            ]
          },
          "metadata": {
            "tags": []
          },
          "execution_count": 101
        }
      ]
    },
    {
      "cell_type": "code",
      "metadata": {
        "colab": {
          "base_uri": "https://localhost:8080/"
        },
        "id": "yOUka6yg94Fs",
        "outputId": "92048d24-3a5d-4dbc-cc06-eb7b4dada296"
      },
      "source": [
        "#PIB outliers\n",
        "\n",
        "#calculando desvio padrão de PIB\n",
        "desv = sts.stdev(dataset['PIB'])\n",
        "desv"
      ],
      "execution_count": 102,
      "outputs": [
        {
          "output_type": "execute_result",
          "data": {
            "text/plain": [
              "17650.23526703751"
            ]
          },
          "metadata": {
            "tags": []
          },
          "execution_count": 102
        }
      ]
    },
    {
      "cell_type": "code",
      "metadata": {
        "colab": {
          "base_uri": "https://localhost:8080/"
        },
        "id": "ReBFOGNr-wtH",
        "outputId": "b20a4b59-d9ac-4299-e306-b25e2be156d3"
      },
      "source": [
        "#calculando a mediana de PIB\n",
        "mediana = sts.median(dataset['PIB'])\n",
        "mediana"
      ],
      "execution_count": 103,
      "outputs": [
        {
          "output_type": "execute_result",
          "data": {
            "text/plain": [
              "16846.77"
            ]
          },
          "metadata": {
            "tags": []
          },
          "execution_count": 103
        }
      ]
    },
    {
      "cell_type": "code",
      "metadata": {
        "colab": {
          "base_uri": "https://localhost:8080/",
          "height": 49
        },
        "id": "3Ll6tb_g_I78",
        "outputId": "61bf9fa3-1a42-4963-d756-d90231c7e9dc"
      },
      "source": [
        "#substituindo outliers maiores que 2 desvios padrões pela mediana\n",
        "dataset.loc[dataset['PIB'] > 2 * desv, 'PIB'] = mediana\n",
        "\n",
        "#veridicandos e ainda tem outliers\n",
        "dataset.loc[dataset['PIB'] > 2 * desv]"
      ],
      "execution_count": 104,
      "outputs": [
        {
          "output_type": "execute_result",
          "data": {
            "text/html": [
              "<div>\n",
              "<style scoped>\n",
              "    .dataframe tbody tr th:only-of-type {\n",
              "        vertical-align: middle;\n",
              "    }\n",
              "\n",
              "    .dataframe tbody tr th {\n",
              "        vertical-align: top;\n",
              "    }\n",
              "\n",
              "    .dataframe thead th {\n",
              "        text-align: right;\n",
              "    }\n",
              "</style>\n",
              "<table border=\"1\" class=\"dataframe\">\n",
              "  <thead>\n",
              "    <tr style=\"text-align: right;\">\n",
              "      <th></th>\n",
              "      <th>CODIGO</th>\n",
              "      <th>MUNICIPIO</th>\n",
              "      <th>PIB</th>\n",
              "      <th>VALOREMPENHO</th>\n",
              "    </tr>\n",
              "  </thead>\n",
              "  <tbody>\n",
              "  </tbody>\n",
              "</table>\n",
              "</div>"
            ],
            "text/plain": [
              "Empty DataFrame\n",
              "Columns: [CODIGO, MUNICIPIO, PIB, VALOREMPENHO]\n",
              "Index: []"
            ]
          },
          "metadata": {
            "tags": []
          },
          "execution_count": 104
        }
      ]
    },
    {
      "cell_type": "code",
      "metadata": {
        "colab": {
          "base_uri": "https://localhost:8080/"
        },
        "id": "3T2SchGG_jYO",
        "outputId": "d47f98be-c8e4-411e-9814-9d25d5fbc038"
      },
      "source": [
        "#Outliers de VALOREMPENHO\n",
        "\n",
        "#calculando desvio padrão\n",
        "desv = sts.stdev(dataset['VALOREMPENHO'])\n",
        "desv"
      ],
      "execution_count": 105,
      "outputs": [
        {
          "output_type": "execute_result",
          "data": {
            "text/plain": [
              "166939.00802593995"
            ]
          },
          "metadata": {
            "tags": []
          },
          "execution_count": 105
        }
      ]
    },
    {
      "cell_type": "code",
      "metadata": {
        "colab": {
          "base_uri": "https://localhost:8080/"
        },
        "id": "o5DvOWHBALFT",
        "outputId": "aac4a8ed-4f8e-49fa-ff12-b5fd4c0a6ce3"
      },
      "source": [
        "#calculando mediana\n",
        "mediana = sts.median(dataset['VALOREMPENHO'])\n",
        "mediana"
      ],
      "execution_count": 106,
      "outputs": [
        {
          "output_type": "execute_result",
          "data": {
            "text/plain": [
              "83477.15"
            ]
          },
          "metadata": {
            "tags": []
          },
          "execution_count": 106
        }
      ]
    },
    {
      "cell_type": "code",
      "metadata": {
        "colab": {
          "base_uri": "https://localhost:8080/",
          "height": 49
        },
        "id": "GxY_zQpmAS-c",
        "outputId": "018b509f-e414-4a4a-bcfa-59d754c88cb2"
      },
      "source": [
        "#substituindo valores maiores que 2 desvios padrões pela mediana\n",
        "dataset.loc[dataset['VALOREMPENHO'] > 2 * desv, 'VALOREMPENHO'] = mediana\n",
        "\n",
        "#verificando se ainda tem outliers\n",
        "dataset.loc[dataset['VALOREMPENHO'] > 2 * desv]"
      ],
      "execution_count": 107,
      "outputs": [
        {
          "output_type": "execute_result",
          "data": {
            "text/html": [
              "<div>\n",
              "<style scoped>\n",
              "    .dataframe tbody tr th:only-of-type {\n",
              "        vertical-align: middle;\n",
              "    }\n",
              "\n",
              "    .dataframe tbody tr th {\n",
              "        vertical-align: top;\n",
              "    }\n",
              "\n",
              "    .dataframe thead th {\n",
              "        text-align: right;\n",
              "    }\n",
              "</style>\n",
              "<table border=\"1\" class=\"dataframe\">\n",
              "  <thead>\n",
              "    <tr style=\"text-align: right;\">\n",
              "      <th></th>\n",
              "      <th>CODIGO</th>\n",
              "      <th>MUNICIPIO</th>\n",
              "      <th>PIB</th>\n",
              "      <th>VALOREMPENHO</th>\n",
              "    </tr>\n",
              "  </thead>\n",
              "  <tbody>\n",
              "  </tbody>\n",
              "</table>\n",
              "</div>"
            ],
            "text/plain": [
              "Empty DataFrame\n",
              "Columns: [CODIGO, MUNICIPIO, PIB, VALOREMPENHO]\n",
              "Index: []"
            ]
          },
          "metadata": {
            "tags": []
          },
          "execution_count": 107
        }
      ]
    },
    {
      "cell_type": "markdown",
      "metadata": {
        "id": "kHTBoxCrA4Sg"
      },
      "source": [
        "ANALISANDO DADOS"
      ]
    },
    {
      "cell_type": "code",
      "metadata": {
        "colab": {
          "base_uri": "https://localhost:8080/",
          "height": 282
        },
        "id": "AL9HrRflA7vx",
        "outputId": "c2b67272-9da6-49cb-8b2f-0ae7d3c472ff"
      },
      "source": [
        "#Verificando se há relação entre PIB e VALOREMPENHO\n",
        "\n",
        "plt.scatter(dataset.PIB, dataset.VALOREMPENHO)"
      ],
      "execution_count": 108,
      "outputs": [
        {
          "output_type": "execute_result",
          "data": {
            "text/plain": [
              "<matplotlib.collections.PathCollection at 0x7f11f4ed1890>"
            ]
          },
          "metadata": {
            "tags": []
          },
          "execution_count": 108
        },
        {
          "output_type": "display_data",
          "data": {
            "image/png": "[encoded data removed]",
            "text/plain": [
              "<Figure size 432x288 with 1 Axes>"
            ]
          },
          "metadata": {
            "tags": [],
            "needs_background": "light"
          }
        }
      ]
    },
    {
      "cell_type": "code",
      "metadata": {
        "colab": {
          "base_uri": "https://localhost:8080/",
          "height": 333
        },
        "id": "L7-sOS8ZBfff",
        "outputId": "6b60fd3d-7cfb-45f2-c255-dbba68fe1f28"
      },
      "source": [
        "#histograma de PIB\n",
        "plt.hist(dataset.PIB)"
      ],
      "execution_count": 109,
      "outputs": [
        {
          "output_type": "execute_result",
          "data": {
            "text/plain": [
              "(array([ 6., 36., 33., 34., 25., 10., 12.,  9.,  5.,  2.]),\n",
              " array([ 8236.63, 10869.82, 13503.01, 16136.2 , 18769.39, 21402.58,\n",
              "        24035.77, 26668.96, 29302.15, 31935.34, 34568.53]),\n",
              " <a list of 10 Patch objects>)"
            ]
          },
          "metadata": {
            "tags": []
          },
          "execution_count": 109
        },
        {
          "output_type": "display_data",
          "data": {
            "image/png": "[encoded data removed]",
            "text/plain": [
              "<Figure size 432x288 with 1 Axes>"
            ]
          },
          "metadata": {
            "tags": [],
            "needs_background": "light"
          }
        }
      ]
    },
    {
      "cell_type": "code",
      "metadata": {
        "colab": {
          "base_uri": "https://localhost:8080/",
          "height": 353
        },
        "id": "-TPOMU6uDAvF",
        "outputId": "c9f3db07-4836-47dd-8785-7d65bc2663f3"
      },
      "source": [
        "#histograma de VALOREMEPRNHO\n",
        "plt.hist(dataset.VALOREMPENHO)"
      ],
      "execution_count": 110,
      "outputs": [
        {
          "output_type": "execute_result",
          "data": {
            "text/plain": [
              "(array([25., 39., 48., 12., 18.,  9., 10.,  6.,  3.,  2.]),\n",
              " array([1.72130000e+02, 3.28433770e+04, 6.55146240e+04, 9.81858710e+04,\n",
              "        1.30857118e+05, 1.63528365e+05, 1.96199612e+05, 2.28870859e+05,\n",
              "        2.61542106e+05, 2.94213353e+05, 3.26884600e+05]),\n",
              " <a list of 10 Patch objects>)"
            ]
          },
          "metadata": {
            "tags": []
          },
          "execution_count": 110
        },
        {
          "output_type": "display_data",
          "data": {
            "image/png": "[encoded data removed]",
            "text/plain": [
              "<Figure size 432x288 with 1 Axes>"
            ]
          },
          "metadata": {
            "tags": [],
            "needs_background": "light"
          }
        }
      ]
    },
    {
      "cell_type": "code",
      "metadata": {
        "colab": {
          "base_uri": "https://localhost:8080/",
          "height": 204
        },
        "id": "pnjiwrXHo2OC",
        "outputId": "4246ffb3-84f2-45e7-fedb-8668a6d765f9"
      },
      "source": [
        "dataset.head()"
      ],
      "execution_count": 111,
      "outputs": [
        {
          "output_type": "execute_result",
          "data": {
            "text/html": [
              "<div>\n",
              "<style scoped>\n",
              "    .dataframe tbody tr th:only-of-type {\n",
              "        vertical-align: middle;\n",
              "    }\n",
              "\n",
              "    .dataframe tbody tr th {\n",
              "        vertical-align: top;\n",
              "    }\n",
              "\n",
              "    .dataframe thead th {\n",
              "        text-align: right;\n",
              "    }\n",
              "</style>\n",
              "<table border=\"1\" class=\"dataframe\">\n",
              "  <thead>\n",
              "    <tr style=\"text-align: right;\">\n",
              "      <th></th>\n",
              "      <th>CODIGO</th>\n",
              "      <th>MUNICIPIO</th>\n",
              "      <th>PIB</th>\n",
              "      <th>VALOREMPENHO</th>\n",
              "    </tr>\n",
              "  </thead>\n",
              "  <tbody>\n",
              "    <tr>\n",
              "      <th>0</th>\n",
              "      <td>106</td>\n",
              "      <td>SANTANA DO LIVRAMENTO</td>\n",
              "      <td>12240.76</td>\n",
              "      <td>83477.15</td>\n",
              "    </tr>\n",
              "    <tr>\n",
              "      <th>1</th>\n",
              "      <td>113</td>\n",
              "      <td>SANTO ANGELO</td>\n",
              "      <td>16575.82</td>\n",
              "      <td>83477.15</td>\n",
              "    </tr>\n",
              "    <tr>\n",
              "      <th>2</th>\n",
              "      <td>118</td>\n",
              "      <td>SAO FRANCISCO DE ASSIS</td>\n",
              "      <td>12037.61</td>\n",
              "      <td>83477.15</td>\n",
              "    </tr>\n",
              "    <tr>\n",
              "      <th>3</th>\n",
              "      <td>13</td>\n",
              "      <td>CACAPAVA DO SUL</td>\n",
              "      <td>13674.54</td>\n",
              "      <td>83477.15</td>\n",
              "    </tr>\n",
              "    <tr>\n",
              "      <th>4</th>\n",
              "      <td>120</td>\n",
              "      <td>SAO GABRIEL</td>\n",
              "      <td>19912.38</td>\n",
              "      <td>83477.15</td>\n",
              "    </tr>\n",
              "  </tbody>\n",
              "</table>\n",
              "</div>"
            ],
            "text/plain": [
              "   CODIGO               MUNICIPIO       PIB  VALOREMPENHO\n",
              "0     106   SANTANA DO LIVRAMENTO  12240.76      83477.15\n",
              "1     113            SANTO ANGELO  16575.82      83477.15\n",
              "2     118  SAO FRANCISCO DE ASSIS  12037.61      83477.15\n",
              "3      13         CACAPAVA DO SUL  13674.54      83477.15\n",
              "4     120             SAO GABRIEL  19912.38      83477.15"
            ]
          },
          "metadata": {
            "tags": []
          },
          "execution_count": 111
        }
      ]
    }
  ]
}